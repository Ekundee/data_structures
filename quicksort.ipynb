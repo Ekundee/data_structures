{
 "cells": [
  {
   "cell_type": "code",
   "execution_count": null,
   "metadata": {},
   "outputs": [],
   "source": []
  },
  {
   "cell_type": "code",
   "execution_count": 54,
   "metadata": {},
   "outputs": [],
   "source": [
    "def quicksort(arr):\n",
    "    print(\"arr\",arr)\n",
    "    if len(arr) <= 1:\n",
    "        return arr\n",
    "    \n",
    "\n",
    "    # choose pivot and divide\n",
    "    pivot = arr[0]\n",
    "    left_side = []\n",
    "    right_side = []\n",
    "\n",
    "    for i in range(1, len(arr)):\n",
    "        if arr[i] <= pivot:\n",
    "            left_side.append(arr[i])\n",
    "        else:\n",
    "            right_side.append(arr[i])\n",
    "\n",
    "\n",
    "    left = quicksort(left_side)\n",
    "    right = quicksort(right_side)\n",
    "\n",
    "    # x = left.extend(right)\n",
    "    return left + [pivot] + right\n"
   ]
  },
  {
   "cell_type": "code",
   "execution_count": 55,
   "metadata": {},
   "outputs": [
    {
     "name": "stdout",
     "output_type": "stream",
     "text": [
      "arr [3, 5, 21, 6, 34, 2, 6, 82, 3]\n",
      "arr [2, 3]\n",
      "arr []\n",
      "arr [3]\n",
      "arr [5, 21, 6, 34, 6, 82]\n",
      "arr []\n",
      "arr [21, 6, 34, 6, 82]\n",
      "arr [6, 6]\n",
      "arr [6]\n",
      "arr []\n",
      "arr [34, 82]\n",
      "arr []\n",
      "arr [82]\n"
     ]
    },
    {
     "data": {
      "text/plain": [
       "[2, 3, 3, 5, 6, 6, 21, 34, 82]"
      ]
     },
     "execution_count": 55,
     "metadata": {},
     "output_type": "execute_result"
    }
   ],
   "source": [
    "x = [3,5,21,6,34,2,6,82,3]\n",
    "\n",
    "quicksort(x)"
   ]
  },
  {
   "cell_type": "code",
   "execution_count": 31,
   "metadata": {},
   "outputs": [
    {
     "data": {
      "text/plain": [
       "[4]"
      ]
     },
     "execution_count": 31,
     "metadata": {},
     "output_type": "execute_result"
    }
   ],
   "source": [
    "x = []\n",
    "x.append(4)\n",
    "x"
   ]
  },
  {
   "cell_type": "code",
   "execution_count": 51,
   "metadata": {},
   "outputs": [
    {
     "data": {
      "text/plain": [
       "[1, 2, 3, 34]"
      ]
     },
     "execution_count": 51,
     "metadata": {},
     "output_type": "execute_result"
    }
   ],
   "source": [
    "a = [1,2,3]\n",
    "b = [34]\n",
    "a+b"
   ]
  },
  {
   "cell_type": "code",
   "execution_count": null,
   "metadata": {},
   "outputs": [],
   "source": []
  }
 ],
 "metadata": {
  "kernelspec": {
   "display_name": "base",
   "language": "python",
   "name": "python3"
  },
  "language_info": {
   "codemirror_mode": {
    "name": "ipython",
    "version": 3
   },
   "file_extension": ".py",
   "mimetype": "text/x-python",
   "name": "python",
   "nbconvert_exporter": "python",
   "pygments_lexer": "ipython3",
   "version": "3.12.7"
  }
 },
 "nbformat": 4,
 "nbformat_minor": 2
}
