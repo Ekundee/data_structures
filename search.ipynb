{
 "cells": [
  {
   "cell_type": "code",
   "execution_count": 1,
   "metadata": {},
   "outputs": [],
   "source": [
    "class Search:\n",
    "    def __init__(self):\n",
    "        pass\n",
    "\n",
    "    def linearSearch (self,  searchValue, arr):\n",
    "        \"\"\"\n",
    "            Return the serach position using binary search algorithm\n",
    "        \"\"\"\n",
    "        index = -1\n",
    "\n",
    "        for i in range(0, len(arr)):\n",
    "            if arr[i] == searchValue:\n",
    "                index = i + 1\n",
    "                \n",
    "        if index != -1:\n",
    "            print(f\"{searchValue} was found in position {index} of the array - {arr}\")\n",
    "        else:\n",
    "            print(f\"{searchValue} does not exist in array - {arr}\")\n",
    "\n",
    "\n",
    "    def binarySearch (self,  searchValue, arr):\n",
    "        left = 0\n",
    "        right = len(arr) - 1\n",
    "        index = -1\n",
    "\n",
    "        while left <= right:\n",
    "            mid = (left + right)//2\n",
    "\n",
    "            if arr[mid] == searchValue:\n",
    "                index = mid + 1\n",
    "                break\n",
    "            elif searchValue > arr[mid]:\n",
    "                left = mid + 1\n",
    "            elif searchValue < arr[mid]:\n",
    "                right = mid - 1\n",
    "        if index != -1:\n",
    "            print(f\"{searchValue} was found in position {index} of the array - {arr}\")\n",
    "        else:\n",
    "            print(f\"{searchValue} does not exist in array - {arr}\")\n",
    "\n",
    "\n",
    "    def recursiveBinarySearch (self, searchValue, arr):\n",
    "        if len(arr) == 0:\n",
    "            print(\"Not found\")\n",
    "            return -1\n",
    "        else:\n",
    "            mid = len(arr)//2\n",
    "\n",
    "        if (arr[mid] == searchValue):\n",
    "            print(\"Found\")\n",
    "            return True\n",
    "        elif searchValue > arr[mid]:\n",
    "            print(arr[mid+1:len(arr)])\n",
    "            self.recursiveBinarySearch(searchValue, arr[mid+1:len(arr)])\n",
    "        elif searchValue < arr[mid]:\n",
    "            print(\"yoo\", arr[0:mid-1])\n",
    "            self.recursiveBinarySearch(searchValue, arr[0:mid])"
   ]
  },
  {
   "cell_type": "code",
   "execution_count": 2,
   "metadata": {},
   "outputs": [
    {
     "name": "stdout",
     "output_type": "stream",
     "text": [
      "[4, 5]\n",
      "Found\n"
     ]
    }
   ],
   "source": [
    "search = Search()\n",
    "search.recursiveBinarySearch(5 , [1,2,3,4,5])"
   ]
  },
  {
   "cell_type": "code",
   "execution_count": null,
   "metadata": {},
   "outputs": [],
   "source": []
  }
 ],
 "metadata": {
  "kernelspec": {
   "display_name": "Python 3",
   "language": "python",
   "name": "python3"
  },
  "language_info": {
   "codemirror_mode": {
    "name": "ipython",
    "version": 3
   },
   "file_extension": ".py",
   "mimetype": "text/x-python",
   "name": "python",
   "nbconvert_exporter": "python",
   "pygments_lexer": "ipython3",
   "version": "3.12.4"
  }
 },
 "nbformat": 4,
 "nbformat_minor": 2
}
