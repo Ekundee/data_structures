{
 "cells": [
  {
   "cell_type": "code",
   "execution_count": 25,
   "metadata": {},
   "outputs": [],
   "source": [
    "def normalMergesort (arr):\n",
    "    if len(arr) <= 1:\n",
    "        return arr\n",
    "    \n",
    "    # Divide\n",
    "    mid = len(arr) //2\n",
    "    left = normalMergesort(arr[:mid])\n",
    "    right = normalMergesort(arr[mid:])\n",
    "\n",
    "\n",
    "    # Merge\n",
    "    new_arr = []\n",
    "    i = 0\n",
    "    j = 0\n",
    "    while i < len(left) and j < len(right):\n",
    "        if left[i] < right[j]:\n",
    "            new_arr.append(left[i])\n",
    "            i += 1\n",
    "        else:\n",
    "            new_arr.append(right[j])\n",
    "            j += 1\n",
    "    \n",
    "    while i < len(left):\n",
    "        new_arr.append(left[i])\n",
    "        i += 1\n",
    "    \n",
    "    while j < len(right):\n",
    "        new_arr.append(right[j])\n",
    "        j += 1\n",
    "\n",
    "    return new_arr"
   ]
  },
  {
   "cell_type": "code",
   "execution_count": 26,
   "metadata": {},
   "outputs": [
    {
     "data": {
      "text/plain": [
       "[1, 2, 2, 2, 3, 4, 45, 76, 346, 783]"
      ]
     },
     "execution_count": 26,
     "metadata": {},
     "output_type": "execute_result"
    }
   ],
   "source": [
    "normalMergesort([2,3,4,2,1,346,783,2,45,76])"
   ]
  },
  {
   "cell_type": "code",
   "execution_count": 27,
   "metadata": {},
   "outputs": [],
   "source": [
    "class Node:\n",
    "    data = None\n",
    "    next_node = None\n",
    "\n",
    "    def __init__(self, data):\n",
    "        self.data = data\n",
    "\n",
    "class LinkedList:\n",
    "    head = None\n",
    "\n",
    "    def __init__(self):\n",
    "        pass\n",
    "\n",
    "    def getSize (self):\n",
    "        size = 0\n",
    "        if self.head == None:\n",
    "            return 1\n",
    "        else:\n",
    "            current = self.head\n",
    "            while current:\n",
    "                size += 1\n",
    "                current = current.next_node\n",
    "            return size\n",
    "\n",
    "    def append(self, data):\n",
    "        if self.head == None:\n",
    "            self.head = Node(data)\n",
    "        else:\n",
    "            current = self.head\n",
    "            while current:\n",
    "                if current.next_node == None:\n",
    "                    current.next_node = Node(data)\n",
    "                    return\n",
    "                current = current.next_node\n",
    "\n",
    "    def prepend (self, data):\n",
    "        if self.head == None:\n",
    "            self.head = Node(data)\n",
    "        else:\n",
    "            old_head = self.head\n",
    "            new_head = Node(data)\n",
    "            new_head.next_node = old_head\n",
    "            self.head = new_head\n",
    "\n",
    "    def printLinkedList (self):\n",
    "        current = self.head\n",
    "        print(\"current.data\")\n",
    "\n",
    "        while current:\n",
    "            print(current.data)\n",
    "            current = current.next_node\n"
   ]
  },
  {
   "cell_type": "code",
   "execution_count": 28,
   "metadata": {},
   "outputs": [
    {
     "name": "stdout",
     "output_type": "stream",
     "text": [
      "current.data\n",
      "7\n",
      "8\n",
      "2\n",
      "20\n",
      "12\n",
      "18\n"
     ]
    }
   ],
   "source": [
    "l = LinkedList()\n",
    "l.append(7)\n",
    "l.append(8)\n",
    "l.append(2)\n",
    "l.append(20)\n",
    "l.append(12)\n",
    "l.append(18)\n",
    "# l.prepend(2)\n",
    "l.printLinkedList()"
   ]
  },
  {
   "cell_type": "code",
   "execution_count": 29,
   "metadata": {},
   "outputs": [
    {
     "data": {
      "text/plain": [
       "6"
      ]
     },
     "execution_count": 29,
     "metadata": {},
     "output_type": "execute_result"
    }
   ],
   "source": [
    "l.getSize()\n"
   ]
  },
  {
   "cell_type": "code",
   "execution_count": 30,
   "metadata": {},
   "outputs": [],
   "source": [
    "def linkedListMergeSort(l):\n",
    "    linked_list_size = l.getSize()\n",
    "    if l.head is None or l.getSize() == 1:\n",
    "        return l\n",
    "\n",
    "    # Split\n",
    "    left_list = LinkedList()\n",
    "    right_list = LinkedList()\n",
    "    current = l.head\n",
    "    counter = 0\n",
    "    while current:\n",
    "        if counter == linked_list_size//2:\n",
    "            right_list.head = current\n",
    "            break\n",
    "        left_list.append(current.data)\n",
    "        counter += 1\n",
    "        current = current.next_node\n",
    "\n",
    "    left = linkedListMergeSort(left_list)\n",
    "    right = linkedListMergeSort(right_list)\n",
    "\n",
    "\n",
    "    # # Merge\n",
    "    new_linkedList = LinkedList()\n",
    "    current_left = left.head\n",
    "    current_right = right.head\n",
    "    while current_left and current_right:\n",
    "        if current_left.data < current_right.data:\n",
    "            new_linkedList.append(current_left.data)\n",
    "            current_left = current_left.next_node\n",
    "        else:\n",
    "            new_linkedList.append(current_right.data)\n",
    "            current_right = current_right.next_node\n",
    "\n",
    "    while current_left:\n",
    "        new_linkedList.append(current_left.data)\n",
    "        current_left = current_left.next_node\n",
    "\n",
    "    while current_right:\n",
    "        new_linkedList.append(current_right.data)\n",
    "        current_right = current_right.next_node\n",
    "\n",
    "    return new_linkedList"
   ]
  },
  {
   "cell_type": "code",
   "execution_count": 31,
   "metadata": {},
   "outputs": [],
   "source": [
    "d = linkedListMergeSort(l)"
   ]
  },
  {
   "cell_type": "code",
   "execution_count": 32,
   "metadata": {},
   "outputs": [
    {
     "name": "stdout",
     "output_type": "stream",
     "text": [
      "current.data\n",
      "2\n",
      "7\n",
      "8\n",
      "12\n",
      "18\n",
      "20\n"
     ]
    }
   ],
   "source": [
    "d.printLinkedList()\n"
   ]
  },
  {
   "cell_type": "code",
   "execution_count": 33,
   "metadata": {},
   "outputs": [
    {
     "data": {
      "text/plain": [
       "<__main__.Node at 0x2ed1ef06070>"
      ]
     },
     "execution_count": 33,
     "metadata": {},
     "output_type": "execute_result"
    }
   ],
   "source": [
    "d.head"
   ]
  },
  {
   "cell_type": "code",
   "execution_count": null,
   "metadata": {},
   "outputs": [],
   "source": []
  },
  {
   "cell_type": "code",
   "execution_count": null,
   "metadata": {},
   "outputs": [],
   "source": []
  }
 ],
 "metadata": {
  "kernelspec": {
   "display_name": "deep_learning",
   "language": "python",
   "name": "python3"
  },
  "language_info": {
   "codemirror_mode": {
    "name": "ipython",
    "version": 3
   },
   "file_extension": ".py",
   "mimetype": "text/x-python",
   "name": "python",
   "nbconvert_exporter": "python",
   "pygments_lexer": "ipython3",
   "version": "3.9.21"
  }
 },
 "nbformat": 4,
 "nbformat_minor": 2
}
