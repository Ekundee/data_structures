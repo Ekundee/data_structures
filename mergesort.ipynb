{
 "cells": [
  {
   "cell_type": "markdown",
   "metadata": {},
   "source": [
    "## Mergesort on Arrays"
   ]
  },
  {
   "cell_type": "code",
   "execution_count": 47,
   "metadata": {},
   "outputs": [],
   "source": [
    "def mergesort (arr):\n",
    "    if len(arr) <= 1:\n",
    "        return arr\n",
    "    \n",
    "\n",
    "    # Divide\n",
    "    mid = len(arr)//2\n",
    "    left = mergesort(arr[:mid])\n",
    "    right = mergesort(arr[mid:])\n",
    "\n",
    "    # merge\n",
    "    new_arr = []\n",
    "    i = 0\n",
    "    j = 0\n",
    "\n",
    "    while i < len(left) and j < len(right):\n",
    "        if left[i] < right[j]:\n",
    "            new_arr.append(left[i])\n",
    "            i += 1\n",
    "        elif right[j] < left[i]:\n",
    "            new_arr.append(right[j])\n",
    "            j += 1\n",
    "        else:\n",
    "            new_arr.append(left[i])\n",
    "            new_arr.append(right[j])\n",
    "            i += 1\n",
    "            j += 1\n",
    "\n",
    "    while i < len(left):\n",
    "        new_arr.append(left[i])\n",
    "        i += 1\n",
    "\n",
    "    while j < len(right):\n",
    "        new_arr.append(right[j])\n",
    "        j += 1\n",
    "\n",
    "    return new_arr\n",
    "\n",
    "\n",
    "def verify_sorted(arr):\n",
    "    if len(arr) <= 1:\n",
    "        return True\n",
    "    else:\n",
    "        return arr[0] < arr[1] and verify_sorted(arr[1:])"
   ]
  },
  {
   "cell_type": "code",
   "execution_count": 48,
   "metadata": {},
   "outputs": [],
   "source": [
    "x = mergesort([11,56,3,5,7,88,53,44])"
   ]
  },
  {
   "cell_type": "code",
   "execution_count": 49,
   "metadata": {},
   "outputs": [
    {
     "data": {
      "text/plain": [
       "True"
      ]
     },
     "execution_count": 49,
     "metadata": {},
     "output_type": "execute_result"
    }
   ],
   "source": [
    "verify_sorted(x)"
   ]
  },
  {
   "cell_type": "markdown",
   "metadata": {},
   "source": [
    "## Mergesort on linked list"
   ]
  },
  {
   "cell_type": "code",
   "execution_count": 77,
   "metadata": {},
   "outputs": [],
   "source": [
    "class Node:\n",
    "    data = None\n",
    "    next_node = None\n",
    "\n",
    "    def __init__(self, data):\n",
    "        self.data  = data\n",
    "    \n",
    "\n",
    "class LinkedList:\n",
    "    size = 0\n",
    "    head = None\n",
    "\n",
    "    def __init__(self):\n",
    "        pass\n",
    "    \n",
    "    def getSize (self):\n",
    "        if self.head == None:\n",
    "            return 0\n",
    "        else:\n",
    "            current = self.head\n",
    "            counter = 0\n",
    "            while current:\n",
    "                counter += 1\n",
    "                current = current.next_node        \n",
    "            return counter\n",
    "\n",
    "    def prepend (self, data):\n",
    "        new_node = Node(data)\n",
    "        new_node.next_node = self.head\n",
    "        self.head = new_node\n",
    "        self.size += 1\n",
    "\n",
    "    def search (self, target):\n",
    "        current = self.head\n",
    "        while current:\n",
    "            if current.data == target:\n",
    "                print(f\"found target - {target}\")\n",
    "                return\n",
    "            else:\n",
    "                current = current.next_node\n",
    "        print(\"Not found\")\n",
    "\n",
    "    def insert(self, data, pos):\n",
    "        current = self.head\n",
    "        currentPosition = 0\n",
    "        while current:\n",
    "            if pos == currentPosition:\n",
    "                prev_node = current\n",
    "                next_node = current.next_node\n",
    "                new_data = Node(data)\n",
    "\n",
    "                prev_node.next_node = new_data\n",
    "                new_data.next_node = next_node\n",
    "               \n",
    "                print(\"Data updated\")\n",
    "                return\n",
    "            currentPosition += 1\n",
    "            current = current.next_node\n",
    "        print(\"position not found\")\n",
    "\n",
    "    def remove (self, data):\n",
    "        if self.head == None:\n",
    "            return\n",
    "        \n",
    "        if self.head.next_node == None:\n",
    "            if self.head == data:\n",
    "                self.head == None\n",
    "                print (\"removed\")\n",
    "\n",
    "        else:\n",
    "            current = self.head\n",
    "            while current:\n",
    "                if current.next_node and current.next_node.data == data: \n",
    "                    if current.next_node.next_node:\n",
    "                        current.next_node = current.next_node.next_node\n",
    "                    else:\n",
    "                        current.next_node = None\n",
    "                    return\n",
    "\n",
    "\n",
    "        \n",
    "\n",
    "    def append(self, data):\n",
    "        if self.head == None:\n",
    "            self.head = Node(data)\n",
    "            self.size += 1\n",
    "            return\n",
    "        \n",
    "        current = self.head\n",
    "        while current:\n",
    "            if current.next_node:\n",
    "                current = current.next_node\n",
    "            else:\n",
    "                current.next_node = Node(data)\n",
    "                self.size += 1\n",
    "                break\n",
    "\n",
    "    def printLinkedList (self):\n",
    "        current = self.head\n",
    "        while current:\n",
    "            print (current.data)\n",
    "            current = current.next_node\n",
    "\n",
    "    def node_at_index(self, index):\n",
    "        if index > self.size -1:\n",
    "            print(\"Enter the right value\")\n",
    "            return False\n",
    "        else:\n",
    "            current = self.head\n",
    "            counter = 0\n",
    "            while current:\n",
    "                if counter == index:\n",
    "                    return current.data\n",
    "                counter += 1\n",
    "                current = current.next_node\n",
    "            \n",
    "\n",
    "def linkedListMergeSort (linkedList):\n",
    "    \"\"\"\n",
    "        Sorts linkedlist in ascending order\n",
    "    \"\"\"\n",
    "    \n",
    "    if linkedList.getSize() <= 1:\n",
    "        return linkedList\n",
    "\n",
    "    # Split\n",
    "    if linkedList == None or linkedList.head == None :\n",
    "        left = linkedList\n",
    "        right = None\n",
    "    else:\n",
    "        mid =  linkedList.getSize()//2\n",
    "        mid_node = linkedList.node_at_index(mid-1)\n",
    "\n",
    "        left = linkedList\n",
    "        right = LinkedList()   \n",
    "        right.head = mid_node.next_node\n",
    "        mid_node.next_node = None \n",
    "\n",
    "    # merge\n",
    "    new_linkedlist = LinkedList()\n",
    "    new_linkedlist.append(0)\n",
    "\n",
    "    current = new_linkedlist.head\n",
    "\n",
    "    # Get head nodes for left and right\n",
    "    left_head = left.head\n",
    "    right_head = right.head\n",
    "\n",
    "    while left_head or right_head:\n",
    "        if left_head is None:\n",
    "            current.next_node = right_head\n",
    "            right_head = right_head.next_node\n",
    "        elif right_head is None:\n",
    "            current.next_node = left_head\n",
    "            left_head = left_head.next_node\n",
    "        else:\n",
    "            if left_head.data < right_head.data:\n",
    "                current.next_node = left_head\n",
    "                left_head = left_head.next_node\n",
    "            else: \n",
    "                current.next_node = right_head\n",
    "                right_head = right_head.next_node\n",
    "\n",
    "    new_linkedlist.head = new_linkedlist.head.next_node\n",
    "    return new_linkedlist\n"
   ]
  },
  {
   "cell_type": "code",
   "execution_count": 73,
   "metadata": {},
   "outputs": [
    {
     "name": "stdout",
     "output_type": "stream",
     "text": [
      "4\n",
      "5\n"
     ]
    }
   ],
   "source": [
    "l = LinkedList()\n",
    "l.append(4)\n",
    "l.append(5)\n",
    "l.printLinkedList()"
   ]
  },
  {
   "cell_type": "code",
   "execution_count": 74,
   "metadata": {},
   "outputs": [
    {
     "data": {
      "text/plain": [
       "5"
      ]
     },
     "execution_count": 74,
     "metadata": {},
     "output_type": "execute_result"
    }
   ],
   "source": [
    "l.node_at_index(1)"
   ]
  },
  {
   "cell_type": "code",
   "execution_count": 78,
   "metadata": {},
   "outputs": [
    {
     "ename": "AttributeError",
     "evalue": "'LinkedList' object has no attribute 'getSize'",
     "output_type": "error",
     "traceback": [
      "\u001b[0;31m---------------------------------------------------------------------------\u001b[0m",
      "\u001b[0;31mAttributeError\u001b[0m                            Traceback (most recent call last)",
      "Cell \u001b[0;32mIn[78], line 1\u001b[0m\n\u001b[0;32m----> 1\u001b[0m x \u001b[38;5;241m=\u001b[39m \u001b[43mlinkedListMergeSort\u001b[49m\u001b[43m(\u001b[49m\u001b[43ml\u001b[49m\u001b[43m)\u001b[49m\n",
      "Cell \u001b[0;32mIn[77], line 123\u001b[0m, in \u001b[0;36mlinkedListMergeSort\u001b[0;34m(linkedList)\u001b[0m\n\u001b[1;32m    118\u001b[0m \u001b[38;5;28;01mdef\u001b[39;00m \u001b[38;5;21mlinkedListMergeSort\u001b[39m (linkedList):\n\u001b[1;32m    119\u001b[0m \u001b[38;5;250m    \u001b[39m\u001b[38;5;124;03m\"\"\"\u001b[39;00m\n\u001b[1;32m    120\u001b[0m \u001b[38;5;124;03m        Sorts linkedlist in ascending order\u001b[39;00m\n\u001b[1;32m    121\u001b[0m \u001b[38;5;124;03m    \"\"\"\u001b[39;00m\n\u001b[0;32m--> 123\u001b[0m     \u001b[38;5;28;01mif\u001b[39;00m \u001b[43mlinkedList\u001b[49m\u001b[38;5;241;43m.\u001b[39;49m\u001b[43mgetSize\u001b[49m() \u001b[38;5;241m<\u001b[39m\u001b[38;5;241m=\u001b[39m \u001b[38;5;241m1\u001b[39m:\n\u001b[1;32m    124\u001b[0m         \u001b[38;5;28;01mreturn\u001b[39;00m linkedList\n\u001b[1;32m    126\u001b[0m     \u001b[38;5;66;03m# Split\u001b[39;00m\n",
      "\u001b[0;31mAttributeError\u001b[0m: 'LinkedList' object has no attribute 'getSize'"
     ]
    }
   ],
   "source": [
    "x = linkedListMergeSort(l)"
   ]
  },
  {
   "cell_type": "code",
   "execution_count": null,
   "metadata": {},
   "outputs": [],
   "source": []
  }
 ],
 "metadata": {
  "kernelspec": {
   "display_name": "Python 3",
   "language": "python",
   "name": "python3"
  },
  "language_info": {
   "codemirror_mode": {
    "name": "ipython",
    "version": 3
   },
   "file_extension": ".py",
   "mimetype": "text/x-python",
   "name": "python",
   "nbconvert_exporter": "python",
   "pygments_lexer": "ipython3",
   "version": "3.9.6"
  }
 },
 "nbformat": 4,
 "nbformat_minor": 2
}
