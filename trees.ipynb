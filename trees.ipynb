{
 "cells": [
  {
   "cell_type": "code",
   "execution_count": 11,
   "metadata": {},
   "outputs": [],
   "source": [
    "class Node:\n",
    "    data = None\n",
    "    left = None\n",
    "    right = None\n",
    "\n",
    "    def __init__(self, data):\n",
    "        self.data = data\n",
    "\n",
    "class BinaryTree:\n",
    "    def __init__(self, data):\n",
    "        self.root = Node(data)\n",
    "    \n",
    "\n",
    "    def addNode (self, data):\n",
    "        current = self.root\n",
    "        while current:\n",
    "            if current.data < data:\n",
    "                if current.left:\n",
    "                    current = current.left\n",
    "                else:\n",
    "                    current = Node(data)\n",
    "                    break\n",
    "\n",
    "            elif current.data > data:\n",
    "                if current.right:\n",
    "                    current = current.right\n",
    "                else:\n",
    "                    current = Node(data)\n",
    "                    break\n",
    "\n",
    "    def printTree (self):\n",
    "        self.preorder(self.root)\n",
    "\n",
    "    def preorder (self, node):\n",
    "        if node:\n",
    "            print(node.data)\n",
    "            self.preorder(node.left)\n",
    "            self.preorder(node.right)\n"
   ]
  },
  {
   "cell_type": "code",
   "execution_count": 16,
   "metadata": {},
   "outputs": [],
   "source": [
    "tree = BinaryTree(4)\n",
    "tree.root.left = Node(5)\n",
    "tree.root.right = Node(7)\n",
    "# tree.addNode(5)\n",
    "# tree.addNode(3)"
   ]
  },
  {
   "cell_type": "code",
   "execution_count": 17,
   "metadata": {},
   "outputs": [
    {
     "name": "stdout",
     "output_type": "stream",
     "text": [
      "4\n",
      "5\n",
      "7\n"
     ]
    }
   ],
   "source": [
    "tree.printTree()"
   ]
  },
  {
   "cell_type": "code",
   "execution_count": null,
   "metadata": {},
   "outputs": [],
   "source": []
  }
 ],
 "metadata": {
  "kernelspec": {
   "display_name": "base",
   "language": "python",
   "name": "python3"
  },
  "language_info": {
   "codemirror_mode": {
    "name": "ipython",
    "version": 3
   },
   "file_extension": ".py",
   "mimetype": "text/x-python",
   "name": "python",
   "nbconvert_exporter": "python",
   "pygments_lexer": "ipython3",
   "version": "3.12.7"
  }
 },
 "nbformat": 4,
 "nbformat_minor": 2
}
