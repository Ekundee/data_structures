{
 "cells": [
  {
   "cell_type": "code",
   "execution_count": 3,
   "metadata": {},
   "outputs": [],
   "source": [
    "class Node:\n",
    "    data = None\n",
    "    left = None\n",
    "    right = None\n",
    "\n",
    "    def __init__(self, data):\n",
    "        self.data = data\n",
    "\n",
    "class SortedTree:\n",
    "    def __init__(self, data):\n",
    "        self.head = Node(data)\n",
    "    \n",
    "\n",
    "    def addNode (self, data):\n",
    "        current = self.head\n",
    "        while current:\n",
    "            if current.data < data:\n",
    "                if current.left:\n",
    "                    current = current.left\n",
    "                else:\n",
    "                    current = Node(data)\n",
    "                    break\n",
    "\n",
    "            elif current.data > data:\n",
    "                if current.right:\n",
    "                    current = current.right\n",
    "                else:\n",
    "                    current = Node(data)\n",
    "                    break\n",
    "\n",
    "    def printTree (self):\n",
    "        print(self.head)\n"
   ]
  },
  {
   "cell_type": "code",
   "execution_count": 2,
   "metadata": {},
   "outputs": [],
   "source": [
    "tree = SortedTree(4)\n",
    "tree.addNode(5)\n",
    "tree.addNode(3)\n",
    "tree.printTree()"
   ]
  },
  {
   "cell_type": "code",
   "execution_count": null,
   "metadata": {},
   "outputs": [],
   "source": []
  }
 ],
 "metadata": {
  "kernelspec": {
   "display_name": "Python 3",
   "language": "python",
   "name": "python3"
  },
  "language_info": {
   "codemirror_mode": {
    "name": "ipython",
    "version": 3
   },
   "file_extension": ".py",
   "mimetype": "text/x-python",
   "name": "python",
   "nbconvert_exporter": "python",
   "pygments_lexer": "ipython3",
   "version": "3.9.6"
  }
 },
 "nbformat": 4,
 "nbformat_minor": 2
}
